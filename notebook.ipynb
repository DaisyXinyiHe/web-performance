{
 "cells": [
  {
   "cell_type": "markdown",
   "id": "9a9ada08-c9f0-466f-91a0-265fa539f9f5",
   "metadata": {},
   "source": [
    "# Which version of the website should you use?\n",
    "\n",
    "## 📖 Background\n",
    "You work for an early-stage startup in Germany. Your team has been working on a redesign of the landing page. The team believes a new design will increase the number of people who click through and join your site. \n",
    "\n",
    "They have been testing the changes for a few weeks and now they want to measure the impact of the change and need you to determine if the increase can be due to random chance or if it is statistically significant."
   ]
  },
  {
   "cell_type": "markdown",
   "id": "10dcc269-3659-4851-99cd-f1ffb7f818aa",
   "metadata": {
    "tags": []
   },
   "source": [
    "## 💾 The data\n",
    "The team assembled the following file:\n",
    "\n",
    "#### Redesign test data\n",
    "- \"treatment\" - \"yes\" if the user saw the new version of the landing page, no otherwise.\n",
    "- \"new_images\" - \"yes\" if the page used a new set of images, no otherwise.\n",
    "- \"converted\" - 1 if the user joined the site, 0 otherwise.\n",
    "\n",
    "The control group is those users with \"no\" in both columns: the old version with the old set of images."
   ]
  },
  {
   "cell_type": "code",
   "execution_count": null,
   "id": "fc2983b6-6456-498d-aae7-03c03b61e862",
   "metadata": {},
   "outputs": [],
   "source": [
    "import numpy as np\n",
    "import scipy.stats\n",
    "import pandas as pd"
   ]
  },
  {
   "cell_type": "code",
   "execution_count": null,
   "id": "40251159-3eea-47f8-bfb4-09e38d5ced65",
   "metadata": {},
   "outputs": [
    {
     "data": {
      "text/html": [
       "<div>\n",
       "<style scoped>\n",
       "    .dataframe tbody tr th:only-of-type {\n",
       "        vertical-align: middle;\n",
       "    }\n",
       "\n",
       "    .dataframe tbody tr th {\n",
       "        vertical-align: top;\n",
       "    }\n",
       "\n",
       "    .dataframe thead th {\n",
       "        text-align: right;\n",
       "    }\n",
       "</style>\n",
       "<table border=\"1\" class=\"dataframe\">\n",
       "  <thead>\n",
       "    <tr style=\"text-align: right;\">\n",
       "      <th></th>\n",
       "      <th>treatment</th>\n",
       "      <th>new_images</th>\n",
       "      <th>converted</th>\n",
       "    </tr>\n",
       "  </thead>\n",
       "  <tbody>\n",
       "    <tr>\n",
       "      <th>0</th>\n",
       "      <td>yes</td>\n",
       "      <td>yes</td>\n",
       "      <td>0</td>\n",
       "    </tr>\n",
       "    <tr>\n",
       "      <th>1</th>\n",
       "      <td>yes</td>\n",
       "      <td>yes</td>\n",
       "      <td>0</td>\n",
       "    </tr>\n",
       "    <tr>\n",
       "      <th>2</th>\n",
       "      <td>yes</td>\n",
       "      <td>yes</td>\n",
       "      <td>0</td>\n",
       "    </tr>\n",
       "    <tr>\n",
       "      <th>3</th>\n",
       "      <td>yes</td>\n",
       "      <td>no</td>\n",
       "      <td>0</td>\n",
       "    </tr>\n",
       "    <tr>\n",
       "      <th>4</th>\n",
       "      <td>no</td>\n",
       "      <td>yes</td>\n",
       "      <td>0</td>\n",
       "    </tr>\n",
       "  </tbody>\n",
       "</table>\n",
       "</div>"
      ],
      "text/plain": [
       "  treatment new_images  converted\n",
       "0       yes        yes          0\n",
       "1       yes        yes          0\n",
       "2       yes        yes          0\n",
       "3       yes         no          0\n",
       "4        no        yes          0"
      ]
     },
     "execution_count": 2,
     "metadata": {},
     "output_type": "execute_result"
    }
   ],
   "source": [
    "df = pd.read_csv('./data/redesign.csv')\n",
    "df.head()"
   ]
  },
  {
   "cell_type": "markdown",
   "id": "2dbb1b26-bae1-4012-b9e6-fcd4d8a46158",
   "metadata": {},
   "source": [
    "1. Analyze the conversion rates for each of the four groups: the new/old design of the landing page and the new/old pictures."
   ]
  },
  {
   "cell_type": "code",
   "execution_count": null,
   "id": "f0bdcedd-b639-4a29-9e8f-1bdb62abeb63",
   "metadata": {},
   "outputs": [
    {
     "data": {
      "text/html": [
       "<div>\n",
       "<style scoped>\n",
       "    .dataframe tbody tr th:only-of-type {\n",
       "        vertical-align: middle;\n",
       "    }\n",
       "\n",
       "    .dataframe tbody tr th {\n",
       "        vertical-align: top;\n",
       "    }\n",
       "\n",
       "    .dataframe thead th {\n",
       "        text-align: right;\n",
       "    }\n",
       "</style>\n",
       "<table border=\"1\" class=\"dataframe\">\n",
       "  <thead>\n",
       "    <tr style=\"text-align: right;\">\n",
       "      <th></th>\n",
       "      <th></th>\n",
       "      <th>converted</th>\n",
       "    </tr>\n",
       "    <tr>\n",
       "      <th>new_images</th>\n",
       "      <th>treatment</th>\n",
       "      <th></th>\n",
       "    </tr>\n",
       "  </thead>\n",
       "  <tbody>\n",
       "    <tr>\n",
       "      <th rowspan=\"2\" valign=\"top\">no</th>\n",
       "      <th>no</th>\n",
       "      <td>0.107104</td>\n",
       "    </tr>\n",
       "    <tr>\n",
       "      <th>yes</th>\n",
       "      <td>0.120047</td>\n",
       "    </tr>\n",
       "    <tr>\n",
       "      <th rowspan=\"2\" valign=\"top\">yes</th>\n",
       "      <th>no</th>\n",
       "      <td>0.112538</td>\n",
       "    </tr>\n",
       "    <tr>\n",
       "      <th>yes</th>\n",
       "      <td>0.113724</td>\n",
       "    </tr>\n",
       "  </tbody>\n",
       "</table>\n",
       "</div>"
      ],
      "text/plain": [
       "                      converted\n",
       "new_images treatment           \n",
       "no         no          0.107104\n",
       "           yes         0.120047\n",
       "yes        no          0.112538\n",
       "           yes         0.113724"
      ]
     },
     "execution_count": 3,
     "metadata": {},
     "output_type": "execute_result"
    }
   ],
   "source": [
    "convrate = df.groupby(['new_images','treatment']).mean()\n",
    "convrate"
   ]
  },
  {
   "cell_type": "markdown",
   "id": "9acc286d-a9ef-49b7-bdc6-5564095e382c",
   "metadata": {},
   "source": [
    "2. Can the increases observed be explained by randomness? (Hint: Think A/B test)"
   ]
  },
  {
   "cell_type": "code",
   "execution_count": null,
   "id": "57ff56b5-a0ec-454d-b814-52b0c9dc154a",
   "metadata": {},
   "outputs": [],
   "source": [
    "control = convrate.iloc[0][0]\n",
    "oldpic_newsite = convrate.iloc[1][0]\n",
    "newpic_oldsite = convrate.iloc[2][0]\n",
    "newpic_newsite = convrate.iloc[3][0]"
   ]
  },
  {
   "cell_type": "code",
   "execution_count": null,
   "id": "9423ee0b-9ddd-428f-b003-cc8ef6aff389",
   "metadata": {},
   "outputs": [
    {
     "data": {
      "text/html": [
       "<div>\n",
       "<style scoped>\n",
       "    .dataframe tbody tr th:only-of-type {\n",
       "        vertical-align: middle;\n",
       "    }\n",
       "\n",
       "    .dataframe tbody tr th {\n",
       "        vertical-align: top;\n",
       "    }\n",
       "\n",
       "    .dataframe thead th {\n",
       "        text-align: right;\n",
       "    }\n",
       "</style>\n",
       "<table border=\"1\" class=\"dataframe\">\n",
       "  <thead>\n",
       "    <tr style=\"text-align: right;\">\n",
       "      <th>treatment</th>\n",
       "      <th>no</th>\n",
       "      <th>yes</th>\n",
       "    </tr>\n",
       "    <tr>\n",
       "      <th>new_images</th>\n",
       "      <th></th>\n",
       "      <th></th>\n",
       "    </tr>\n",
       "  </thead>\n",
       "  <tbody>\n",
       "    <tr>\n",
       "      <th>no</th>\n",
       "      <td>10121</td>\n",
       "      <td>10121</td>\n",
       "    </tr>\n",
       "    <tr>\n",
       "      <th>yes</th>\n",
       "      <td>10121</td>\n",
       "      <td>10121</td>\n",
       "    </tr>\n",
       "  </tbody>\n",
       "</table>\n",
       "</div>"
      ],
      "text/plain": [
       "treatment      no    yes\n",
       "new_images              \n",
       "no          10121  10121\n",
       "yes         10121  10121"
      ]
     },
     "execution_count": 5,
     "metadata": {},
     "output_type": "execute_result"
    }
   ],
   "source": [
    "pd.crosstab(index = df['new_images'], columns = df['treatment'])"
   ]
  },
  {
   "cell_type": "code",
   "execution_count": null,
   "id": "fdf9dc3b-1fc7-4217-b502-73861802ad33",
   "metadata": {},
   "outputs": [
    {
     "name": "stdout",
     "output_type": "stream",
     "text": [
      "p_value of differences between new site and control: 0.0018550158413607619\n"
     ]
    }
   ],
   "source": [
    "## Hypothesis 1: new site vs control\n",
    "\n",
    "n_control = 10121\n",
    "n_oldpic_newsite = 10121\n",
    "p_control = control\n",
    "p_oldpic_newsite = oldpic_newsite\n",
    "SE = np.sqrt( p_control*(1-p_control)/n_control + p_oldpic_newsite*(1-p_oldpic_newsite)/n_oldpic_newsite )\n",
    "t = abs((oldpic_newsite - control)) / SE\n",
    "print('p_value of differences between new site and control:',scipy.stats.t.sf(abs(t), df=n_control))\n"
   ]
  },
  {
   "cell_type": "code",
   "execution_count": null,
   "id": "6321977c-38d6-4c0e-8099-dc6b00c5091b",
   "metadata": {},
   "outputs": [
    {
     "name": "stdout",
     "output_type": "stream",
     "text": [
      "p_value of differences between new picture and control: 0.10816310122876607\n"
     ]
    }
   ],
   "source": [
    "## Hypothesis 2: new pic vs control\n",
    "\n",
    "n_control = 10121\n",
    "n_newpic_oldsite = 10121\n",
    "p_control = control\n",
    "p_newpic_oldsite = newpic_oldsite\n",
    "SE = np.sqrt( p_control*(1-p_control)/n_control + p_newpic_oldsite*(1-p_newpic_oldsite)/n_newpic_oldsite )\n",
    "t = abs((newpic_oldsite - control)) / SE\n",
    "print('p_value of differences between new picture and control:',scipy.stats.t.sf(abs(t), df=n_control))"
   ]
  },
  {
   "cell_type": "code",
   "execution_count": null,
   "id": "07a0c4b0-d5ea-44fc-ba11-e5cf05a64027",
   "metadata": {},
   "outputs": [
    {
     "name": "stdout",
     "output_type": "stream",
     "text": [
      "p_value of differences between new picture new sites and control: 0.0664764878532551\n"
     ]
    }
   ],
   "source": [
    "## Hypothesis 3: new pic new site vs control\n",
    "\n",
    "n_control = 10121\n",
    "n_newpic_newsite = 10121\n",
    "p_control = control\n",
    "p_newpic_newsite = newpic_newsite\n",
    "SE = np.sqrt( p_control*(1-p_control)/n_control + p_newpic_newsite*(1-p_newpic_newsite)/n_newpic_newsite )\n",
    "t = abs((newpic_newsite - control)) / SE\n",
    "print('p_value of differences between new picture new sites and control:',scipy.stats.t.sf(abs(t), df=n_control))"
   ]
  },
  {
   "cell_type": "markdown",
   "id": "2dd93090-c281-48b3-a7f0-5f1ba74f102a",
   "metadata": {},
   "source": [
    "The conversion rate difference between new site with old pictures and control was significant, while the others were not. Therefore, only the increase in conversion rate by implimenting old pictures and new site was not random. "
   ]
  },
  {
   "cell_type": "markdown",
   "id": "ed18ccab-fa55-4580-90ca-e059a8338409",
   "metadata": {},
   "source": [
    "3. Which version of the website should they use?\n",
    "\n",
    "I would recommend the new site with old pictures. This site increases conversion rate significantly. "
   ]
  },
  {
   "cell_type": "code",
   "execution_count": null,
   "id": "24742f4e-9e18-4181-8dfc-7e7d4d4dbcdd",
   "metadata": {},
   "outputs": [],
   "source": []
  }
 ],
 "metadata": {
  "kernelspec": {
   "display_name": "",
   "name": ""
  },
  "language_info": {
   "name": ""
  }
 },
 "nbformat": 4,
 "nbformat_minor": 5
}
